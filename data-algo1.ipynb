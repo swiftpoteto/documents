{
 "cells": [
  {
   "cell_type": "markdown",
   "id": "8f977ee0-71eb-4180-838f-01073c943ed5",
   "metadata": {},
   "source": [
    "# データ構造とアルゴリズム"
   ]
  },
  {
   "cell_type": "markdown",
   "id": "3dd34d48-8d4e-4fdc-9172-19ca9244c555",
   "metadata": {},
   "source": [
    "### 基礎から学ぶデータ構造とアルゴリズム　穴田有一・林雄二"
   ]
  },
  {
   "cell_type": "markdown",
   "id": "f19e598c-2e93-417c-879e-400ae8defc14",
   "metadata": {
    "tags": []
   },
   "source": [
    "## $x^n$を求めるアルゴリズム"
   ]
  },
  {
   "cell_type": "code",
   "execution_count": null,
   "id": "60dfa965-645b-4744-be5d-eca4b197096c",
   "metadata": {},
   "outputs": [],
   "source": [
    "import java.io.*;\n",
    "public class XnSimple {\n",
    "    public static void main (String args[]) throws IOException {\n",
    "        String ss;\n",
    "        int x, n, t=1, i=1;\n",
    "        \n",
    "        BufferedReader br = new BufferedReader(new InputStreamReader(System.in));\n",
    "        \n",
    "        System.out.print(\"Enter x = \");\n",
    "        ss = br.readLine();\n",
    "        x = Integer.parseInt(ss);\n",
    "        \n",
    "        System.out.print(\"Enter n = \");\n",
    "        ss = br.readLine();\n",
    "        n = Integer.parseInt(ss);\n",
    "\n",
    "\n",
    "        t = x*x;\n",
    "        while(i<=n-2) {\n",
    "            t = x*t;\n",
    "            i = i+1;\n",
    "        }\n",
    "        \n",
    "        System.out.println(\"t = x^n = \" + t);\n",
    "    }\n",
    "}"
   ]
  },
  {
   "cell_type": "markdown",
   "id": "bf74a616-5bd7-4cd5-b166-928b0c0e2697",
   "metadata": {},
   "source": [
    "## 直接探索・線形探索\n",
    "- 直接探索はindexを直接指定\n",
    "- 線形探索はindexを0から順に調べる"
   ]
  },
  {
   "cell_type": "code",
   "execution_count": null,
   "id": "c526f983-6126-4c8c-8a37-b667414416b8",
   "metadata": {},
   "outputs": [],
   "source": [
    "import java.io.*;\n",
    "\n",
    "class RenewL {\n",
    "    public static void main(String args[]) throws IOException {\n",
    "        int a[] = {5,3,8,4,9};\n",
    "        BufferedReader br = new BufferedReader(new InputStreamReader(System.in));\n",
    "\n",
    "        System.out.print(\"新しいデータの入力：\");\n",
    "        String intx = br.readLine();\n",
    "        int x = Integer.parseInt(intx);\n",
    "        \n",
    "        System.out.print(\"新データの要素番号の入力：\");\n",
    "        String intid = br.readLine();\n",
    "        int id = Integer.parseInt(intid);\n",
    "\n",
    "        // データの更新（直接探索）\n",
    "        a[id] = x;\n",
    "    }\n",
    "}"
   ]
  },
  {
   "cell_type": "markdown",
   "id": "51816b79-1591-4db4-b42e-810910c9d82c",
   "metadata": {},
   "source": [
    "## 配列・リスト\n",
    "- 配列...静的なデータ構造\n",
    "- リスト... 動的なデータ構造"
   ]
  },
  {
   "cell_type": "markdown",
   "id": "a7c72e79-02c8-4869-899d-1f811cb9947b",
   "metadata": {},
   "source": [
    "## リストの特徴\n",
    "- データ列の中での前後関係をポインタで示す\n",
    "- リストの要素は接点ともいう\n",
    "- 連結リスト、双方向リスト、循環リスト"
   ]
  },
  {
   "cell_type": "markdown",
   "id": "62039f41-4d09-4978-a133-7050c18fd425",
   "metadata": {},
   "source": [
    "## 計算量\n",
    "- 配列...$O(1)$\n",
    "- リスト...$O(n)$"
   ]
  },
  {
   "cell_type": "markdown",
   "id": "65758771-edf0-45bb-90c2-7067c61930b7",
   "metadata": {},
   "source": [
    "## 利点\n",
    "- サイズ可変\n",
    "- 並び替え容易\n",
    "- 削除容易\n",
    "\n",
    "## 欠点\n",
    "- 直接探索不可"
   ]
  },
  {
   "cell_type": "markdown",
   "id": "fd1f4348-1182-4b25-870a-c47e47ce70c4",
   "metadata": {},
   "source": [
    "# 連結リストの生成・探索・更新・削除・挿入"
   ]
  },
  {
   "cell_type": "markdown",
   "id": "790e03d3-c8ec-4174-8cf3-3ec73d53c123",
   "metadata": {},
   "source": [
    "## ポイント\n",
    "- 生成：p.next = head; と head = p;\n",
    "- 探索：目的のところまで p = p.next;\n",
    "- 更新：探索してそこを p.data = xnew;で書き換え\n",
    "- 削除：Link q = head; と Link p = q.next;\n",
    "- 挿入：pp.next = p.next; と p.next = pp;"
   ]
  },
  {
   "cell_type": "code",
   "execution_count": null,
   "id": "1429ca7c-6cb4-49d1-a1a8-93f4dace8766",
   "metadata": {},
   "outputs": [],
   "source": [
    "class Link {\n",
    "    public int data;\n",
    "    public Link next;\n",
    "\n",
    "    // コンストラクタ\n",
    "    Link(int d) {\n",
    "        data = d;\n",
    "    }\n",
    "}\n",
    "\n",
    "public class useList {\n",
    "    private Link head;\n",
    "    private int x; // xはとあるデータとする\n",
    "\n",
    "    \n",
    "    // 連結リストの生成\n",
    "    public void makeList(int d) {\n",
    "        Link p = new Link(d);\n",
    "\n",
    "        p.next = head;\n",
    "        head = p;\n",
    "    }\n",
    "\n",
    "    // 探索\n",
    "    public Link search() {\n",
    "        Link p = head;\n",
    "\n",
    "        while(x != p.data) {\n",
    "            if(p.next != null) {\n",
    "                p = p.next;\n",
    "            }\n",
    "            else {\n",
    "                // 何もしない\n",
    "            }\n",
    "        }\n",
    "\n",
    "        return p;\n",
    "    }\n",
    "\n",
    "    // 更新\n",
    "    public void update(int xnew) {\n",
    "        Link p = head;\n",
    "\n",
    "        while(x != p.data) {\n",
    "            if(p.next != null) {\n",
    "                p = p.next;\n",
    "            }\n",
    "            else {\n",
    "                // 何もしない\n",
    "            }\n",
    "        }\n",
    "\n",
    "        p.data = xnew;\n",
    "    }\n",
    "\n",
    "    // 削除（先頭以外）\n",
    "    public void delete() {\n",
    "        Link q = head;\n",
    "        Link p = q.next;\n",
    "\n",
    "        while(x != p.data) {\n",
    "            if(p.next != null) {\n",
    "                q = p;\n",
    "                p = p.next;\n",
    "            }\n",
    "            else {\n",
    "                // 何もしない\n",
    "            }\n",
    "        }\n",
    "\n",
    "        q.next = p.next;\n",
    "    }\n",
    "    \n",
    "    // 削除（先頭）\n",
    "    public void deleteTop() {\n",
    "        Link p = head;\n",
    "\n",
    "        head = p.next;\n",
    "        p = head;\n",
    "    }\n",
    "\n",
    "    // 挿入\n",
    "    public void insert() {\n",
    "        Link p = head;\n",
    "        Link pp = new Link(d);\n",
    "\n",
    "        while(x != p.data) {\n",
    "            p = p.next;\n",
    "        }\n",
    "\n",
    "        pp.next = p.next;\n",
    "        p.next = pp;\n",
    "    }\n",
    "}"
   ]
  },
  {
   "cell_type": "markdown",
   "id": "0d8052c8-f194-4976-b926-944e1a91cad8",
   "metadata": {},
   "source": [
    "# スタック・キュー"
   ]
  },
  {
   "cell_type": "code",
   "execution_count": null,
   "id": "31370975-111a-4040-a3b5-1c6cf81c9f5f",
   "metadata": {},
   "outputs": [],
   "source": [
    "データを追加するときはデータを追加する分あけてからデータを追加\n",
    "データを取り出したら空いた場所は埋める\n",
    "\n",
    "そんなイメージ"
   ]
  },
  {
   "cell_type": "markdown",
   "id": "f64853a3-1bbe-4142-8e99-3b3577336093",
   "metadata": {},
   "source": [
    "## スタック"
   ]
  },
  {
   "cell_type": "markdown",
   "id": "0a0a4ded-4961-41c7-aed3-bcb97cf8451b",
   "metadata": {},
   "source": [
    "- LIFO\n",
    "- 底は決まっているのでtopが動く"
   ]
  },
  {
   "cell_type": "code",
   "execution_count": null,
   "id": "d42db250-e2cb-45cf-924d-e2f099975814",
   "metadata": {},
   "outputs": [],
   "source": [
    "import java.io.*;\n",
    "\n",
    "class Stack {\n",
    "    private int stSize;\n",
    "    private double[] Stack;\n",
    "    private int top;\n",
    "\n",
    "    // コンストラクタ\n",
    "    public Stack(int x) {\n",
    "        stSize = x;\n",
    "        Stack = new double[stSize];\n",
    "        top = -1;\n",
    "    }\n",
    "    \n",
    "    public void push(double j) {\n",
    "        Stack[++top] = j; // topを増やしてからデータを追加\n",
    "    }\n",
    "\n",
    "    public double pop() {\n",
    "        return Stack[top--]; // データを取り出してからtopを減らす\n",
    "    }\n",
    "\n",
    "    public double peek() {\n",
    "        return Stack[top];\n",
    "    }\n",
    "}\n",
    "\n",
    "class stackExample {\n",
    "    public static void main(String[] args) {\n",
    "        Stack stackData = new Stack(10);\n",
    "\n",
    "        // プッシュ\n",
    "        stackData.push(20);\n",
    "        stackData.push(40);\n",
    "        stackData.push(60);\n",
    "        stackData.push(80);\n",
    "\n",
    "        // ポップ\n",
    "        while(!stackData.isEmpty()) {\n",
    "            double value = stackData.pop();\n",
    "            System.out.print(value);\n",
    "        }\n",
    "\n",
    "    }\n",
    "}\n"
   ]
  },
  {
   "cell_type": "markdown",
   "id": "98cdc0ba-76a8-4130-9c83-23d6d05a1d2e",
   "metadata": {},
   "source": [
    "# キュー"
   ]
  },
  {
   "cell_type": "markdown",
   "id": "fcd2bbdd-cd7c-44f7-bc4a-0fc28b46b608",
   "metadata": {},
   "source": [
    "## キュー"
   ]
  },
  {
   "cell_type": "markdown",
   "id": "86d677ef-9707-45e3-9617-5608647e6efa",
   "metadata": {},
   "source": [
    "- FIFO\n",
    "- frontが前、rearが後ろの位置を表す\n",
    "- データを追加するときは後ろを伸ばして、データを取り出すときは前を切る"
   ]
  },
  {
   "cell_type": "code",
   "execution_count": null,
   "id": "5e5a6d78-cd3b-41e7-a3d6-d242c414ae46",
   "metadata": {},
   "outputs": [],
   "source": [
    "class Queue {\n",
    "    private int queSize;\n",
    "    private int[] queX;\n",
    "    private int front;\n",
    "    private int rear;\n",
    "\n",
    "\n",
    "    public Queue(int s) {\n",
    "        queSize = s;\n",
    "        queX = new int [queSize];\n",
    "        front = 0;\n",
    "        rear = -1;\n",
    "        nItems = 0;\n",
    "    }\n",
    "\n",
    "    public void enqueue(int j) {\n",
    "        if(rear == queSize-1) {\n",
    "            rear = -1;\n",
    "        }\n",
    "        queX[++rear] = j;\n",
    "        nItems += 1;\n",
    "    }\n",
    "\n",
    "    public int dequeue() {\n",
    "        int temp = queX[front++];\n",
    "        if (front == queSize) {\n",
    "            front = 0;\n",
    "        }\n",
    "        nItems -= 1;\n",
    "        return temp;\n",
    "    }\n",
    "}\n",
    "\n",
    "class queueExample {\n",
    "    \n",
    "}\n"
   ]
  },
  {
   "cell_type": "code",
   "execution_count": null,
   "id": "b24b8ac1-e26d-459d-99e5-037ba9e943c4",
   "metadata": {},
   "outputs": [],
   "source": []
  }
 ],
 "metadata": {
  "kernelspec": {
   "display_name": "",
   "name": ""
  },
  "language_info": {
   "name": ""
  }
 },
 "nbformat": 4,
 "nbformat_minor": 5
}
