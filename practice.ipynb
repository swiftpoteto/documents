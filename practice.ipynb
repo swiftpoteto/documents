{
 "cells": [
  {
   "cell_type": "markdown",
   "id": "193c4b36-c123-4cf0-9f9a-3f3f8064f833",
   "metadata": {},
   "source": [
    "## 問題解決のための「アルゴリズム×数学」が基礎からしっかり身につく本　練習"
   ]
  },
  {
   "cell_type": "markdown",
   "id": "577d1738-0cea-424c-892c-524e74d637f2",
   "metadata": {},
   "source": [
    "# P22 2.1.4"
   ]
  },
  {
   "cell_type": "code",
   "execution_count": null,
   "id": "414f8ebc-26e0-471d-b889-42b41f05ae8b",
   "metadata": {},
   "outputs": [],
   "source": [
    "n = int(input())\n",
    "ans = 0\n",
    "count = 0\n",
    "flag = 1\n",
    "\n",
    "while flag:\n",
    "  n = n//2\n",
    "\n",
    "  bit = n%2\n",
    "  rank = 10**count\n",
    "  ans += bit*rank\n",
    "  count += 1\n",
    "\n",
    "  if n == 1:\n",
    "    rank *= 10\n",
    "    ans += bit*rank\n",
    "    flag = 0\n",
    "\n",
    "print(ans)"
   ]
  },
  {
   "cell_type": "markdown",
   "id": "200f7bc0-b291-4c6a-a2db-40b5c74d97cd",
   "metadata": {},
   "source": [
    "↑ 追記：位が上がるとこでおかしい"
   ]
  },
  {
   "cell_type": "markdown",
   "id": "a6a9e173-0354-4011-bdfc-e9b566ffac76",
   "metadata": {},
   "source": [
    "- 模範解答は文字列の足し算で行っていた"
   ]
  },
  {
   "cell_type": "markdown",
   "id": "1d76fe68-c1f2-4032-aaf9-44105561a784",
   "metadata": {},
   "source": [
    "# 選択ソート"
   ]
  },
  {
   "cell_type": "code",
   "execution_count": null,
   "id": "a0ae17b6-9246-4e45-b204-4e7ffbd3b2a8",
   "metadata": {},
   "outputs": [],
   "source": [
    "n = int(input())\n",
    "a = [int(x) for x in input().split()]\n",
    "\n",
    "#選択ソート\n",
    "for i in range(n-1):\n",
    "    min_idx = i\n",
    "    min_val = a[i]\n",
    "    \n",
    "    for j in range(i+1, n):\n",
    "        if a[j] < min_val:\n",
    "            min_idx = j\n",
    "            min_val = a[j]\n",
    "            \n",
    "    a[i], a[min_idx] = a[min_idx], a[i]\n",
    "    \n",
    "for i in range(n):\n",
    "    print(a[i])"
   ]
  },
  {
   "cell_type": "markdown",
   "id": "a25388f2-ae12-42c0-898a-127a3d890f7e",
   "metadata": {},
   "source": [
    "# マージソート"
   ]
  },
  {
   "cell_type": "code",
   "execution_count": null,
   "id": "0aba7ed3-808e-465a-aa65-c358748d1afb",
   "metadata": {},
   "outputs": [],
   "source": []
  }
 ],
 "metadata": {
  "kernelspec": {
   "display_name": "",
   "name": ""
  },
  "language_info": {
   "name": ""
  }
 },
 "nbformat": 4,
 "nbformat_minor": 5
}
